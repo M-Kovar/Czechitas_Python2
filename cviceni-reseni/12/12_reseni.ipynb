{
 "cells": [
  {
   "attachments": {},
   "cell_type": "markdown",
   "metadata": {},
   "source": [
    "# 12. lekce: Cvičení\n",
    "\n",
    "## NLP: Natural Language Processing\n",
    "\n",
    "V tomto cvičení zkus naimplementovat klasifikátor, který rozpozná pozitivní recenzi produktu od\n",
    "negativní. Takové úloze se občas říká _sentiment analysis_.\n",
    "\n",
    "Pracuj se souborem [reviews.csv](data/reviews.csv). Soubor obsahuje text recenze, a výstupní proměnnou `label` se dvěma hodnotami, `neg` a `pos`. Můžeš si všimnout, že data už nějakým čištěním prošla. Porovnej alespoň dva algoritmy. Jaké je nejlepší f1-score, kterého jsi dosáhl/a?"
   ]
  },
  {
   "cell_type": "code",
   "execution_count": 49,
   "metadata": {},
   "outputs": [],
   "source": [
    "import pandas\n",
    "import requests\n",
    "from sklearn.feature_extraction.text import CountVectorizer, TfidfVectorizer\n",
    "from sklearn.metrics import accuracy_score, f1_score\n",
    "from sklearn.model_selection import train_test_split\n",
    "from sklearn.neighbors import KNeighborsClassifier\n",
    "from sklearn.pipeline import Pipeline\n",
    "from sklearn.svm import LinearSVC\n",
    "\n",
    "from sklearn.metrics import ConfusionMatrixDisplay"
   ]
  },
  {
   "cell_type": "code",
   "execution_count": 50,
   "metadata": {},
   "outputs": [
    {
     "data": {
      "text/html": [
       "<div>\n",
       "<style scoped>\n",
       "    .dataframe tbody tr th:only-of-type {\n",
       "        vertical-align: middle;\n",
       "    }\n",
       "\n",
       "    .dataframe tbody tr th {\n",
       "        vertical-align: top;\n",
       "    }\n",
       "\n",
       "    .dataframe thead th {\n",
       "        text-align: right;\n",
       "    }\n",
       "</style>\n",
       "<table border=\"1\" class=\"dataframe\">\n",
       "  <thead>\n",
       "    <tr style=\"text-align: right;\">\n",
       "      <th></th>\n",
       "      <th>label</th>\n",
       "      <th>product</th>\n",
       "      <th>review</th>\n",
       "    </tr>\n",
       "  </thead>\n",
       "  <tbody>\n",
       "    <tr>\n",
       "      <th>0</th>\n",
       "      <td>neg</td>\n",
       "      <td>music</td>\n",
       "      <td>the cd came as promised and in the condition p...</td>\n",
       "    </tr>\n",
       "    <tr>\n",
       "      <th>1</th>\n",
       "      <td>neg</td>\n",
       "      <td>dvd</td>\n",
       "      <td>this was a very annoying and boring flick that...</td>\n",
       "    </tr>\n",
       "    <tr>\n",
       "      <th>2</th>\n",
       "      <td>neg</td>\n",
       "      <td>health</td>\n",
       "      <td>the braun ls-5550 silk&amp;soft bodyshave recharge...</td>\n",
       "    </tr>\n",
       "    <tr>\n",
       "      <th>3</th>\n",
       "      <td>pos</td>\n",
       "      <td>camera</td>\n",
       "      <td>when it comes to buying camcorders , i persona...</td>\n",
       "    </tr>\n",
       "    <tr>\n",
       "      <th>4</th>\n",
       "      <td>neg</td>\n",
       "      <td>dvd</td>\n",
       "      <td>i had high hopes for this series when i starte...</td>\n",
       "    </tr>\n",
       "  </tbody>\n",
       "</table>\n",
       "</div>"
      ],
      "text/plain": [
       "  label product                                             review\n",
       "0   neg   music  the cd came as promised and in the condition p...\n",
       "1   neg     dvd  this was a very annoying and boring flick that...\n",
       "2   neg  health  the braun ls-5550 silk&soft bodyshave recharge...\n",
       "3   pos  camera  when it comes to buying camcorders , i persona...\n",
       "4   neg     dvd  i had high hopes for this series when i starte..."
      ]
     },
     "metadata": {},
     "output_type": "display_data"
    },
    {
     "data": {
      "text/plain": [
       "\"when it comes to buying camcorders , i personally like the one with the build in memory . but after using this camcorder i was forced to change my mind . unlike other sony camcorders , first of all , it offers upto 40x zoom which is a lot . its a good use of your money . you can have it for under $400 and still works better than a lot of choices out there . easy to use , touch screen , takes still photos , has a good speaker so it 's easier to record video and voice , fits into your palm so to speak , and if you use rewritable mini dvds , you would n't have to worry about go out of memory . so when it comes to sony camcorders , i would say the better quality of this one would get the job done properly .\""
      ]
     },
     "metadata": {},
     "output_type": "display_data"
    },
    {
     "data": {
      "text/plain": [
       "\"this was a very annoying and boring flick thats barely watchable and throughout the film i kept looking at my watch , the film is not a historical drama nor is it an autobiographical film about william shakespreare infact it is a romantic comedy disguised as a historical drama . my girlfriend insisted that we watch this film together but i was n't in the mood she forced me to watch this , the film was about a struggling young writer shakespeare played by joseph fiennes who falls in love with lady viola played by gwyneth paltro who also happens to inspire his famous play romeo and juliet , this film also won a couple of oscars including gwyny for best actress but i felt like the film was just not that funny because all the characters seemed to talk in an old english style thats hard to understand . overall the film was just o.k. i think that some of the sets and costumes were fantastic and judi dench was great as queen elizabeth but i never want to watch this film again , if your a shakspeare fan and like romantic comedies then you might like this film more than i did .\""
      ]
     },
     "metadata": {},
     "output_type": "display_data"
    }
   ],
   "source": [
    "# Načtení dat\n",
    "data = pandas.read_csv(\"data/reviews.csv\")\n",
    "display(data.head())\n",
    "\n",
    "# Zobrazení celého textu jedné pozitivní a jedné negativní recenze\n",
    "display( data[data[\"label\"]==\"pos\"].iloc[0][\"review\"] )\n",
    "display( data[data[\"label\"]==\"neg\"].iloc[1][\"review\"] )"
   ]
  },
  {
   "cell_type": "code",
   "execution_count": 51,
   "metadata": {},
   "outputs": [],
   "source": [
    "# Rozdělení dat na vstupní proměnné a cílovou klasifikaci\n",
    "X = data[\"review\"]\n",
    "y = data[\"label\"]\n",
    "\n",
    "# Rozdělení dat na trénovací a testovací sadu\n",
    "# (stratify=y zařídí rovnoměrné/vyvážené rozdělení dat podle štítků v proměnné y)\n",
    "X_train, X_test, y_train, y_test = train_test_split(X, y, stratify=y, random_state=0)"
   ]
  },
  {
   "attachments": {},
   "cell_type": "markdown",
   "metadata": {},
   "source": [
    "- Porovnej alespoň dva algoritmy. Jaké je nejlepší f1-score, kterého jsi dosáhl/a?"
   ]
  },
  {
   "cell_type": "code",
   "execution_count": 52,
   "metadata": {},
   "outputs": [
    {
     "data": {
      "text/html": [
       "<style>#sk-container-id-3 {color: black;background-color: white;}#sk-container-id-3 pre{padding: 0;}#sk-container-id-3 div.sk-toggleable {background-color: white;}#sk-container-id-3 label.sk-toggleable__label {cursor: pointer;display: block;width: 100%;margin-bottom: 0;padding: 0.3em;box-sizing: border-box;text-align: center;}#sk-container-id-3 label.sk-toggleable__label-arrow:before {content: \"▸\";float: left;margin-right: 0.25em;color: #696969;}#sk-container-id-3 label.sk-toggleable__label-arrow:hover:before {color: black;}#sk-container-id-3 div.sk-estimator:hover label.sk-toggleable__label-arrow:before {color: black;}#sk-container-id-3 div.sk-toggleable__content {max-height: 0;max-width: 0;overflow: hidden;text-align: left;background-color: #f0f8ff;}#sk-container-id-3 div.sk-toggleable__content pre {margin: 0.2em;color: black;border-radius: 0.25em;background-color: #f0f8ff;}#sk-container-id-3 input.sk-toggleable__control:checked~div.sk-toggleable__content {max-height: 200px;max-width: 100%;overflow: auto;}#sk-container-id-3 input.sk-toggleable__control:checked~label.sk-toggleable__label-arrow:before {content: \"▾\";}#sk-container-id-3 div.sk-estimator input.sk-toggleable__control:checked~label.sk-toggleable__label {background-color: #d4ebff;}#sk-container-id-3 div.sk-label input.sk-toggleable__control:checked~label.sk-toggleable__label {background-color: #d4ebff;}#sk-container-id-3 input.sk-hidden--visually {border: 0;clip: rect(1px 1px 1px 1px);clip: rect(1px, 1px, 1px, 1px);height: 1px;margin: -1px;overflow: hidden;padding: 0;position: absolute;width: 1px;}#sk-container-id-3 div.sk-estimator {font-family: monospace;background-color: #f0f8ff;border: 1px dotted black;border-radius: 0.25em;box-sizing: border-box;margin-bottom: 0.5em;}#sk-container-id-3 div.sk-estimator:hover {background-color: #d4ebff;}#sk-container-id-3 div.sk-parallel-item::after {content: \"\";width: 100%;border-bottom: 1px solid gray;flex-grow: 1;}#sk-container-id-3 div.sk-label:hover label.sk-toggleable__label {background-color: #d4ebff;}#sk-container-id-3 div.sk-serial::before {content: \"\";position: absolute;border-left: 1px solid gray;box-sizing: border-box;top: 0;bottom: 0;left: 50%;z-index: 0;}#sk-container-id-3 div.sk-serial {display: flex;flex-direction: column;align-items: center;background-color: white;padding-right: 0.2em;padding-left: 0.2em;position: relative;}#sk-container-id-3 div.sk-item {position: relative;z-index: 1;}#sk-container-id-3 div.sk-parallel {display: flex;align-items: stretch;justify-content: center;background-color: white;position: relative;}#sk-container-id-3 div.sk-item::before, #sk-container-id-3 div.sk-parallel-item::before {content: \"\";position: absolute;border-left: 1px solid gray;box-sizing: border-box;top: 0;bottom: 0;left: 50%;z-index: -1;}#sk-container-id-3 div.sk-parallel-item {display: flex;flex-direction: column;z-index: 1;position: relative;background-color: white;}#sk-container-id-3 div.sk-parallel-item:first-child::after {align-self: flex-end;width: 50%;}#sk-container-id-3 div.sk-parallel-item:last-child::after {align-self: flex-start;width: 50%;}#sk-container-id-3 div.sk-parallel-item:only-child::after {width: 0;}#sk-container-id-3 div.sk-dashed-wrapped {border: 1px dashed gray;margin: 0 0.4em 0.5em 0.4em;box-sizing: border-box;padding-bottom: 0.4em;background-color: white;}#sk-container-id-3 div.sk-label label {font-family: monospace;font-weight: bold;display: inline-block;line-height: 1.2em;}#sk-container-id-3 div.sk-label-container {text-align: center;}#sk-container-id-3 div.sk-container {/* jupyter's `normalize.less` sets `[hidden] { display: none; }` but bootstrap.min.css set `[hidden] { display: none !important; }` so we also need the `!important` here to be able to override the default hidden behavior on the sphinx rendered scikit-learn.org. See: https://github.com/scikit-learn/scikit-learn/issues/21755 */display: inline-block !important;position: relative;}#sk-container-id-3 div.sk-text-repr-fallback {display: none;}</style><div id=\"sk-container-id-3\" class=\"sk-top-container\"><div class=\"sk-text-repr-fallback\"><pre>Pipeline(steps=[(&#x27;vec&#x27;, TfidfVectorizer(ngram_range=(1, 2))),\n",
       "                (&#x27;clf&#x27;, LinearSVC(max_iter=10000, random_state=0))])</pre><b>In a Jupyter environment, please rerun this cell to show the HTML representation or trust the notebook. <br />On GitHub, the HTML representation is unable to render, please try loading this page with nbviewer.org.</b></div><div class=\"sk-container\" hidden><div class=\"sk-item sk-dashed-wrapped\"><div class=\"sk-label-container\"><div class=\"sk-label sk-toggleable\"><input class=\"sk-toggleable__control sk-hidden--visually\" id=\"sk-estimator-id-7\" type=\"checkbox\" ><label for=\"sk-estimator-id-7\" class=\"sk-toggleable__label sk-toggleable__label-arrow\">Pipeline</label><div class=\"sk-toggleable__content\"><pre>Pipeline(steps=[(&#x27;vec&#x27;, TfidfVectorizer(ngram_range=(1, 2))),\n",
       "                (&#x27;clf&#x27;, LinearSVC(max_iter=10000, random_state=0))])</pre></div></div></div><div class=\"sk-serial\"><div class=\"sk-item\"><div class=\"sk-estimator sk-toggleable\"><input class=\"sk-toggleable__control sk-hidden--visually\" id=\"sk-estimator-id-8\" type=\"checkbox\" ><label for=\"sk-estimator-id-8\" class=\"sk-toggleable__label sk-toggleable__label-arrow\">TfidfVectorizer</label><div class=\"sk-toggleable__content\"><pre>TfidfVectorizer(ngram_range=(1, 2))</pre></div></div></div><div class=\"sk-item\"><div class=\"sk-estimator sk-toggleable\"><input class=\"sk-toggleable__control sk-hidden--visually\" id=\"sk-estimator-id-9\" type=\"checkbox\" ><label for=\"sk-estimator-id-9\" class=\"sk-toggleable__label sk-toggleable__label-arrow\">LinearSVC</label><div class=\"sk-toggleable__content\"><pre>LinearSVC(max_iter=10000, random_state=0)</pre></div></div></div></div></div></div></div>"
      ],
      "text/plain": [
       "Pipeline(steps=[('vec', TfidfVectorizer(ngram_range=(1, 2))),\n",
       "                ('clf', LinearSVC(max_iter=10000, random_state=0))])"
      ]
     },
     "metadata": {},
     "output_type": "display_data"
    },
    {
     "name": "stdout",
     "output_type": "stream",
     "text": [
      "accuracy: 0.83\n",
      "f1 score: 0.83\n"
     ]
    }
   ],
   "source": [
    "# Bonus: Příprava pipeline (zásobníku? sekvence? potrubí?), která obsahuje:\n",
    "#  1. Matici zastoupení slov\n",
    "#  2. Klasifikátor\n",
    "# ... pipeline umožňuje \"hromadně\" v sekvenci využívat všechny zařazené součásti\n",
    "pipeline = Pipeline(\n",
    "    [\n",
    "        # Matice zastoupení slov, vyzkoušíme dvě varianty: TfidfVectorizer a CountVectorizer\n",
    "        (\"vec\", TfidfVectorizer(ngram_range=(1, 2))),\n",
    "        # (\"vec\", CountVectorizer()),\n",
    "\n",
    "        # Klasifikátor, vyzkoušíme dvě varianty: KNN a SVC\n",
    "        # ... pozor, KNN trvá dlouho, u mě asi 90 vteřin, výsledná accuracy je 0.68\n",
    "        # ... SVC při použití CountVectorizer() nekonverguje k řešení a dává warning, proto zvýšíme max. počet iterací pomocí max_iter=10_000\n",
    "        # (\"clf\", KNeighborsClassifier(n_neighbors=10)),\n",
    "        (\"clf\", LinearSVC(random_state=0, max_iter=10_000)),\n",
    "    ]\n",
    ")\n",
    "# ... parametr ngram_range=(1, 2) zařídí rozdělení do samostatných slov a zároveň i do dvojic slov\n",
    "\n",
    "display(pipeline)\n",
    "\n",
    "# \"Provedení\" pipeline\n",
    "pipeline.fit(X_train, y_train)\n",
    "\n",
    "# Klasifikace testovacích dat\n",
    "y_pred = pipeline.predict(X_test)\n",
    "\n",
    "# Výpočet a zobrazení zaokrouhlených statistik\n",
    "# (print pomocí f-stringů: na místě složených závorek v řetězci se zobrazí výsledek kódu uvnitř závorek)\n",
    "print(f\"accuracy: {round(accuracy_score(y_test, y_pred), 2)}\")\n",
    "print(f\"f1 score: {round(f1_score(y_test, y_pred, average='weighted'), 2)}\")"
   ]
  },
  {
   "cell_type": "code",
   "execution_count": 53,
   "metadata": {},
   "outputs": [
    {
     "data": {
      "text/plain": [
       "<sklearn.metrics._plot.confusion_matrix.ConfusionMatrixDisplay at 0x14d0b35a940>"
      ]
     },
     "execution_count": 53,
     "metadata": {},
     "output_type": "execute_result"
    },
    {
     "data": {
      "image/png": "[encoded data removed]",
      "text/plain": [
       "<Figure size 640x480 with 2 Axes>"
      ]
     },
     "metadata": {},
     "output_type": "display_data"
    }
   ],
   "source": [
    "# Zobrazení matice záměn\n",
    "ConfusionMatrixDisplay.from_estimator(\n",
    "    pipeline,\n",
    "    X_test,\n",
    "    y_test,\n",
    ")"
   ]
  },
  {
   "attachments": {},
   "cell_type": "markdown",
   "metadata": {},
   "source": [
    "### Bonus 1\n",
    "\n",
    "Identifikuj ty recenze, které tvůj model označil špatně. Na pár z nich se podívej, a zkus odvodit, proč model chyboval."
   ]
  },
  {
   "cell_type": "code",
   "execution_count": 54,
   "metadata": {},
   "outputs": [
    {
     "data": {
      "text/html": [
       "<div>\n",
       "<style scoped>\n",
       "    .dataframe tbody tr th:only-of-type {\n",
       "        vertical-align: middle;\n",
       "    }\n",
       "\n",
       "    .dataframe tbody tr th {\n",
       "        vertical-align: top;\n",
       "    }\n",
       "\n",
       "    .dataframe thead th {\n",
       "        text-align: right;\n",
       "    }\n",
       "</style>\n",
       "<table border=\"1\" class=\"dataframe\">\n",
       "  <thead>\n",
       "    <tr style=\"text-align: right;\">\n",
       "      <th></th>\n",
       "      <th>text</th>\n",
       "      <th>true</th>\n",
       "      <th>pred</th>\n",
       "    </tr>\n",
       "  </thead>\n",
       "  <tbody>\n",
       "    <tr>\n",
       "      <th>0</th>\n",
       "      <td>i bought this book , the paperback version . t...</td>\n",
       "      <td>neg</td>\n",
       "      <td>neg</td>\n",
       "    </tr>\n",
       "    <tr>\n",
       "      <th>1</th>\n",
       "      <td>i 'm a zone diet believer - but this book is a...</td>\n",
       "      <td>neg</td>\n",
       "      <td>neg</td>\n",
       "    </tr>\n",
       "    <tr>\n",
       "      <th>2</th>\n",
       "      <td>i have an r717 camera . i bought the dock too ...</td>\n",
       "      <td>neg</td>\n",
       "      <td>neg</td>\n",
       "    </tr>\n",
       "    <tr>\n",
       "      <th>3</th>\n",
       "      <td>i love this backpack ! it is just what i neede...</td>\n",
       "      <td>pos</td>\n",
       "      <td>pos</td>\n",
       "    </tr>\n",
       "    <tr>\n",
       "      <th>4</th>\n",
       "      <td>i have been waiting for this dvd to come out f...</td>\n",
       "      <td>pos</td>\n",
       "      <td>pos</td>\n",
       "    </tr>\n",
       "  </tbody>\n",
       "</table>\n",
       "</div>"
      ],
      "text/plain": [
       "                                                text true pred\n",
       "0  i bought this book , the paperback version . t...  neg  neg\n",
       "1  i 'm a zone diet believer - but this book is a...  neg  neg\n",
       "2  i have an r717 camera . i bought the dock too ...  neg  neg\n",
       "3  i love this backpack ! it is just what i neede...  pos  pos\n",
       "4  i have been waiting for this dvd to come out f...  pos  pos"
      ]
     },
     "execution_count": 54,
     "metadata": {},
     "output_type": "execute_result"
    }
   ],
   "source": [
    "# Převod dat do DataFrame\n",
    "df = pandas.DataFrame({\"text\": X_test, \"true\": y_test, \"pred\": y_pred}).reset_index(\n",
    "    drop=True\n",
    ")\n",
    "\n",
    "df.head()"
   ]
  },
  {
   "cell_type": "code",
   "execution_count": 55,
   "metadata": {},
   "outputs": [
    {
     "data": {
      "text/plain": [
       "text    there 's too much drama going on in this discu...\n",
       "true                                                  pos\n",
       "pred                                                  neg\n",
       "Name: 1489, dtype: object"
      ]
     },
     "metadata": {},
     "output_type": "display_data"
    },
    {
     "name": "stdout",
     "output_type": "stream",
     "text": [
      "[\"there 's too much drama going on in this discussion ! i do n't really care about what year these episodes came out or that there are 9 missing episodes of the new scooby doo movies . i 'm just glad there 's more scooby ! !\", 'pos', 'neg']\n"
     ]
    }
   ],
   "source": [
    "# Výběr nesprávně klasifikovaných dat\n",
    "misclassified = df[df[\"true\"] != df[\"pred\"]]\n",
    "\n",
    "# Zobrazení jednoho záznamu\n",
    "display(misclassified.loc[1489])\n",
    "\n",
    "# Zobrazení celého textu recenze daného záznamu díky převedení Series do seznamu\n",
    "print(misclassified.loc[1489].to_list())"
   ]
  },
  {
   "attachments": {},
   "cell_type": "markdown",
   "metadata": {},
   "source": [
    "### Bonus 2\n",
    "\n",
    "Všimni si, že soubor obsahuje také sloupec `product`, který identifikuje kategorii produktu.\n",
    "\n",
    "1. Mohlo by být zajímavé se podívat, jestli je možné data do těchto kategorií shlukovat bez využití této informace. Data normalizuj (například pomocí `TfidfVectorizer`), a zkus spustit nějaký shlukovací algoritmus, například `KMeans`. Výsledky shlukování můžeš \"obarvit\" správnými kategoriemi. Povedlo se modelu predikovat kategorie?\n",
    "\n",
    "2. Vyzkoušej také klasifikaci do těchto kategorií. Které kategorie se těžko odlišují?"
   ]
  },
  {
   "cell_type": "code",
   "execution_count": null,
   "metadata": {},
   "outputs": [],
   "source": [
    "# ..."
   ]
  }
 ],
 "metadata": {
  "kernelspec": {
   "display_name": "base",
   "language": "python",
   "name": "python3"
  },
  "language_info": {
   "codemirror_mode": {
    "name": "ipython",
    "version": 3
   },
   "file_extension": ".py",
   "mimetype": "text/x-python",
   "name": "python",
   "nbconvert_exporter": "python",
   "pygments_lexer": "ipython3",
   "version": "3.9.16"
  },
  "orig_nbformat": 4
 },
 "nbformat": 4,
 "nbformat_minor": 2
}
