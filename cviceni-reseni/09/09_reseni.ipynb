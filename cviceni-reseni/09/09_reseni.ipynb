{
 "cells": [
  {
   "attachments": {},
   "cell_type": "markdown",
   "metadata": {},
   "source": [
    "# 9. lekce: Cvičení\n",
    "\n",
    "## Kosatce\n",
    "Data: [IRIS.csv](data/IRIS.csv)\n",
    "\n",
    "![iris image](data/iris_image.png)\n",
    "*Zdroj: https://www.analyticsvidhya.com/blog/2022/06/iris-flowers-classification-using-machine-learning/*\n",
    "\n",
    "- Petal: Okvětní lístek\n",
    "- Sepal: Kališní lístek\n",
    "\n",
    "Datovou sadu s daty o kosetcích (Iris) představil britský statistik a biolog Ronald Fisher ve svém článku z roku 1936 o využití mnohonásobných měření v taxonomických problémech. Někdy se mu říká Andersonův kosatcový datový soubor, protože Edgar Anderson shromáždil data k měření morfologické variace květin kosatce tří souvisejících druhů. Datová sada obsahuje 50 vzorků od každého ze tří druhů kosatce (Iris Setosa, Iris virginica a Iris versicolor). Od každého vzorku byly změřeny čtyři vlastnosti: délka a šířka kališních lístků a korunních lístků, v centimetrech.\n",
    "\n",
    "Tato datová sada se stala typickým testovacím případem pro mnoho statistických klasifikačních technik v strojovém učení, jako jsou například podpůrné vektorové stroje.\n",
    "\n",
    "Využij algoritmy `KNeighborsClassifier` a `SVC` ke klasifikaci každého vzorku do jednoho ze tří druhů kosance.\n",
    "\n",
    "Postup je stejný jako v lekci:\n",
    "\n",
    "- Rozděl data na vstupní a výstupní proměnné.\n",
    "- Využij `GridSearchCV` k nalezení nejlepšího parametru pro `KNeighborsClassifier` (počet sousedů) a `SVC` (strategie)\n",
    "- Dále vyzkoušej, jestli by nebylo zajímavé převést data do více dimenzí. Porovnej výsledek lineárního kernelu (`kernel=\"linear\"`) s kernelem (`kernel=\"rbf\"`). Můžeš vyzkoušet obě strategie, tj. budeš mít ve slovníku `params` dva klíče a každý z klíčů bude mít seznam dvou možných hodnot. Jaká dvojice parametrů má nejlepší hodnotu metriky `accuracy`?"
   ]
  },
  {
   "cell_type": "code",
   "execution_count": 381,
   "metadata": {},
   "outputs": [],
   "source": [
    "import pandas\n",
    "import matplotlib.pyplot as plt\n",
    "\n",
    "from sklearn.metrics import (\n",
    "    accuracy_score,\n",
    "    confusion_matrix,\n",
    "    ConfusionMatrixDisplay,\n",
    "    f1_score,\n",
    "    precision_score,\n",
    "    recall_score,\n",
    ")\n",
    "from sklearn.preprocessing import OneHotEncoder, LabelEncoder\n",
    "from sklearn.neighbors import KNeighborsClassifier\n",
    "from sklearn.model_selection import train_test_split, GridSearchCV\n",
    "from sklearn.svm import SVC"
   ]
  },
  {
   "cell_type": "code",
   "execution_count": 382,
   "metadata": {},
   "outputs": [
    {
     "name": "stdout",
     "output_type": "stream",
     "text": [
      "(150, 5)\n"
     ]
    },
    {
     "data": {
      "text/html": [
       "<div>\n",
       "<style scoped>\n",
       "    .dataframe tbody tr th:only-of-type {\n",
       "        vertical-align: middle;\n",
       "    }\n",
       "\n",
       "    .dataframe tbody tr th {\n",
       "        vertical-align: top;\n",
       "    }\n",
       "\n",
       "    .dataframe thead th {\n",
       "        text-align: right;\n",
       "    }\n",
       "</style>\n",
       "<table border=\"1\" class=\"dataframe\">\n",
       "  <thead>\n",
       "    <tr style=\"text-align: right;\">\n",
       "      <th></th>\n",
       "      <th>sepal_length</th>\n",
       "      <th>sepal_width</th>\n",
       "      <th>petal_length</th>\n",
       "      <th>petal_width</th>\n",
       "      <th>species</th>\n",
       "    </tr>\n",
       "  </thead>\n",
       "  <tbody>\n",
       "    <tr>\n",
       "      <th>0</th>\n",
       "      <td>5.1</td>\n",
       "      <td>3.5</td>\n",
       "      <td>1.4</td>\n",
       "      <td>0.2</td>\n",
       "      <td>Iris-setosa</td>\n",
       "    </tr>\n",
       "    <tr>\n",
       "      <th>1</th>\n",
       "      <td>4.9</td>\n",
       "      <td>3.0</td>\n",
       "      <td>1.4</td>\n",
       "      <td>0.2</td>\n",
       "      <td>Iris-setosa</td>\n",
       "    </tr>\n",
       "    <tr>\n",
       "      <th>2</th>\n",
       "      <td>4.7</td>\n",
       "      <td>3.2</td>\n",
       "      <td>1.3</td>\n",
       "      <td>0.2</td>\n",
       "      <td>Iris-setosa</td>\n",
       "    </tr>\n",
       "    <tr>\n",
       "      <th>3</th>\n",
       "      <td>4.6</td>\n",
       "      <td>3.1</td>\n",
       "      <td>1.5</td>\n",
       "      <td>0.2</td>\n",
       "      <td>Iris-setosa</td>\n",
       "    </tr>\n",
       "    <tr>\n",
       "      <th>4</th>\n",
       "      <td>5.0</td>\n",
       "      <td>3.6</td>\n",
       "      <td>1.4</td>\n",
       "      <td>0.2</td>\n",
       "      <td>Iris-setosa</td>\n",
       "    </tr>\n",
       "  </tbody>\n",
       "</table>\n",
       "</div>"
      ],
      "text/plain": [
       "   sepal_length  sepal_width  petal_length  petal_width      species\n",
       "0           5.1          3.5           1.4          0.2  Iris-setosa\n",
       "1           4.9          3.0           1.4          0.2  Iris-setosa\n",
       "2           4.7          3.2           1.3          0.2  Iris-setosa\n",
       "3           4.6          3.1           1.5          0.2  Iris-setosa\n",
       "4           5.0          3.6           1.4          0.2  Iris-setosa"
      ]
     },
     "execution_count": 382,
     "metadata": {},
     "output_type": "execute_result"
    }
   ],
   "source": [
    "# Načtení dat\n",
    "data1 = pandas.read_csv(\"data/IRIS.csv\")\n",
    "\n",
    "print(data1.shape)\n",
    "data1.head()"
   ]
  },
  {
   "attachments": {},
   "cell_type": "markdown",
   "metadata": {},
   "source": [
    "- Rozděl data na vstupní a výstupní proměnné."
   ]
  },
  {
   "cell_type": "code",
   "execution_count": 383,
   "metadata": {},
   "outputs": [],
   "source": [
    "# Rozdělení dat na vstupní proměnné a cílovou klasifikaci\n",
    "X1 = data1.drop(columns=[\"species\"])\n",
    "y1 = data1[\"species\"]"
   ]
  },
  {
   "attachments": {},
   "cell_type": "markdown",
   "metadata": {},
   "source": [
    "- Využij `GridSearchCV` k nalezení nejlepšího parametru pro `KNeighborsClassifier` (počet sousedů) a `SVC` (strategie)\n",
    "\n",
    "(Rozdělení dat na trénovací a testovací sadu netřeba řešit, funkce si to zařídí sama)"
   ]
  },
  {
   "cell_type": "code",
   "execution_count": 384,
   "metadata": {},
   "outputs": [
    {
     "name": "stdout",
     "output_type": "stream",
     "text": [
      "{'n_neighbors': 7}\n",
      "Best accuracy: 0.98\n"
     ]
    }
   ],
   "source": [
    "# Vytvoření klasifikátoru KNN a slovníku s parametry k otestování\n",
    "model_1 = KNeighborsClassifier()\n",
    "params_1 = {\"n_neighbors\": range(1, 31, 2)}\n",
    "\n",
    "# Otestování klasifikátorů se všemi kombinacemi parametrů\n",
    "# CV: Cross-Validation\n",
    "clf_1 = GridSearchCV(model_1, params_1, scoring=\"accuracy\")\n",
    "clf_1.fit(X1, y1)\n",
    "\n",
    "# Zobrazení parametrů a skóre nejlepšího klasifikátoru\n",
    "print(clf_1.best_params_)\n",
    "print(f\"Best accuracy: {round(clf_1.best_score_, 2)}\")\n",
    "# ... zaokrouhlení na dvě desetinná místa"
   ]
  },
  {
   "attachments": {},
   "cell_type": "markdown",
   "metadata": {},
   "source": [
    "- Dále vyzkoušej, jestli by nebylo zajímavé převést data do více dimenzí. Porovnej výsledek lineárního kernelu (`kernel=\"linear\"`) s kernelem (`kernel=\"rbf\"`)"
   ]
  },
  {
   "cell_type": "code",
   "execution_count": 385,
   "metadata": {},
   "outputs": [
    {
     "name": "stdout",
     "output_type": "stream",
     "text": [
      "{'decision_function_shape': 'ovo', 'kernel': 'linear'}\n",
      "Best accuracy: 0.98\n"
     ]
    }
   ],
   "source": [
    "# Stejným způsobem otestujeme SVC klasifikátor, rovnou včetně kernelu rbf\n",
    "# RBF: Radial Basis Function\n",
    "\n",
    "# Vytvoření klasifikátoru SVC (Support Vector Classification) a slovníku s parametry k otestování\n",
    "# OVO: One-vs-One\n",
    "# OVR: One-vs-Rest\n",
    "model_2 = SVC()\n",
    "params_2 = {\"kernel\": [\"linear\", \"rbf\"], \"decision_function_shape\": [\"ovo\", \"ovr\"]}\n",
    "\n",
    "# Otestování klasifikátorů se všemi kombinacemi parametrů\n",
    "# CV: Cross-Validation\n",
    "clf_2 = GridSearchCV(model_2, params_2, scoring=\"accuracy\")\n",
    "clf_2.fit(X1, y1)\n",
    "\n",
    "# Zobrazení parametrů a skóre nejlepšího klasifikátoru\n",
    "print(clf_2.best_params_)\n",
    "print(f\"Best accuracy: {round(clf_2.best_score_, 2)}\")\n",
    "# ... zaokrouhlení na dvě desetinná místa"
   ]
  },
  {
   "attachments": {},
   "cell_type": "markdown",
   "metadata": {},
   "source": [
    "Pro zajímavost, všechny výsledky GridSearchCV se ukládají do atributu `cv_results_` ve formě slovníku:"
   ]
  },
  {
   "cell_type": "code",
   "execution_count": 386,
   "metadata": {},
   "outputs": [
    {
     "data": {
      "text/plain": [
       "{'mean_fit_time': array([0.00722179, 0.00554171, 0.00431175, 0.00462217]),\n",
       " 'std_fit_time': array([0.00169845, 0.00186346, 0.00046781, 0.00073599]),\n",
       " 'mean_score_time': array([0.00789495, 0.00326052, 0.00284281, 0.00312009]),\n",
       " 'std_score_time': array([0.00740706, 0.00058795, 0.00072037, 0.00021076]),\n",
       " 'param_decision_function_shape': masked_array(data=['ovo', 'ovo', 'ovr', 'ovr'],\n",
       "              mask=[False, False, False, False],\n",
       "        fill_value='?',\n",
       "             dtype=object),\n",
       " 'param_kernel': masked_array(data=['linear', 'rbf', 'linear', 'rbf'],\n",
       "              mask=[False, False, False, False],\n",
       "        fill_value='?',\n",
       "             dtype=object),\n",
       " 'params': [{'decision_function_shape': 'ovo', 'kernel': 'linear'},\n",
       "  {'decision_function_shape': 'ovo', 'kernel': 'rbf'},\n",
       "  {'decision_function_shape': 'ovr', 'kernel': 'linear'},\n",
       "  {'decision_function_shape': 'ovr', 'kernel': 'rbf'}],\n",
       " 'split0_test_score': array([0.96666667, 0.96666667, 0.96666667, 0.96666667]),\n",
       " 'split1_test_score': array([1.        , 0.96666667, 1.        , 0.96666667]),\n",
       " 'split2_test_score': array([0.96666667, 0.96666667, 0.96666667, 0.96666667]),\n",
       " 'split3_test_score': array([0.96666667, 0.93333333, 0.96666667, 0.93333333]),\n",
       " 'split4_test_score': array([1., 1., 1., 1.]),\n",
       " 'mean_test_score': array([0.98      , 0.96666667, 0.98      , 0.96666667]),\n",
       " 'std_test_score': array([0.01632993, 0.02108185, 0.01632993, 0.02108185]),\n",
       " 'rank_test_score': array([1, 3, 1, 3])}"
      ]
     },
     "execution_count": 386,
     "metadata": {},
     "output_type": "execute_result"
    }
   ],
   "source": [
    "clf_2.cv_results_"
   ]
  },
  {
   "attachments": {},
   "cell_type": "markdown",
   "metadata": {},
   "source": [
    "## Bonus: Poruchy\n",
    "\n",
    "Stáhni si data o poruchách ze souboru [predictive_maintenance.csv](data/predictive_maintenance.csv). Význam sloupců je následující:\n",
    "\n",
    "- UID: jedinečný identifikátor v rozsahu 1 až 10000,\n",
    "- ID produktu: skládá se z písmene L, M nebo H pro nízkou (50 % všech výrobků), střední (30 %) a vysokou (20 %) variantu kvality výrobku a sériového čísla specifického pro danou variantu,\n",
    "- teplota vzduchu (K),\n",
    "- teplota procesu (K),\n",
    "- otáčky (ot/min),\n",
    "- točivý moment (Nm),\n",
    "- opotřebení nástroje (min),\n",
    "- označení \"selhání stroje\" (pokud k němu došlo).\n",
    "\n",
    "Tvým úkolem je vytvořit model, který bude predikovat poruchu stroje.\n",
    "\n",
    "Proveď následující postup:\n",
    "\n",
    "- Vyřaď z datasetu sloupce (jsou dva), které nemají pro analýzu význam.\n",
    "- Podívej se, kolik typů poruch bylo objeveno. Vyřaď nejméně častou poruchu.\n",
    "- Rozděl data na vstupní proměnné a výstupní proměnnou.\n",
    "- Vyzkoušej algoritmy Support Vector Machine a K Nearest Neighbors ke klasifikaci poruchy stroje. Porovnej, který algoritmus dosáhl lepších výsledků."
   ]
  },
  {
   "cell_type": "code",
   "execution_count": 387,
   "metadata": {},
   "outputs": [
    {
     "name": "stdout",
     "output_type": "stream",
     "text": [
      "(10000, 10)\n"
     ]
    },
    {
     "data": {
      "text/html": [
       "<div>\n",
       "<style scoped>\n",
       "    .dataframe tbody tr th:only-of-type {\n",
       "        vertical-align: middle;\n",
       "    }\n",
       "\n",
       "    .dataframe tbody tr th {\n",
       "        vertical-align: top;\n",
       "    }\n",
       "\n",
       "    .dataframe thead th {\n",
       "        text-align: right;\n",
       "    }\n",
       "</style>\n",
       "<table border=\"1\" class=\"dataframe\">\n",
       "  <thead>\n",
       "    <tr style=\"text-align: right;\">\n",
       "      <th></th>\n",
       "      <th>UDI</th>\n",
       "      <th>Product ID</th>\n",
       "      <th>Type</th>\n",
       "      <th>Air temperature [K]</th>\n",
       "      <th>Process temperature [K]</th>\n",
       "      <th>Rotational speed [rpm]</th>\n",
       "      <th>Torque [Nm]</th>\n",
       "      <th>Tool wear [min]</th>\n",
       "      <th>Target</th>\n",
       "      <th>Failure Type</th>\n",
       "    </tr>\n",
       "  </thead>\n",
       "  <tbody>\n",
       "    <tr>\n",
       "      <th>0</th>\n",
       "      <td>1</td>\n",
       "      <td>M14860</td>\n",
       "      <td>M</td>\n",
       "      <td>298.1</td>\n",
       "      <td>308.6</td>\n",
       "      <td>1551</td>\n",
       "      <td>42.8</td>\n",
       "      <td>0</td>\n",
       "      <td>0</td>\n",
       "      <td>No Failure</td>\n",
       "    </tr>\n",
       "    <tr>\n",
       "      <th>1</th>\n",
       "      <td>2</td>\n",
       "      <td>L47181</td>\n",
       "      <td>L</td>\n",
       "      <td>298.2</td>\n",
       "      <td>308.7</td>\n",
       "      <td>1408</td>\n",
       "      <td>46.3</td>\n",
       "      <td>3</td>\n",
       "      <td>0</td>\n",
       "      <td>No Failure</td>\n",
       "    </tr>\n",
       "    <tr>\n",
       "      <th>2</th>\n",
       "      <td>3</td>\n",
       "      <td>L47182</td>\n",
       "      <td>L</td>\n",
       "      <td>298.1</td>\n",
       "      <td>308.5</td>\n",
       "      <td>1498</td>\n",
       "      <td>49.4</td>\n",
       "      <td>5</td>\n",
       "      <td>0</td>\n",
       "      <td>No Failure</td>\n",
       "    </tr>\n",
       "    <tr>\n",
       "      <th>3</th>\n",
       "      <td>4</td>\n",
       "      <td>L47183</td>\n",
       "      <td>L</td>\n",
       "      <td>298.2</td>\n",
       "      <td>308.6</td>\n",
       "      <td>1433</td>\n",
       "      <td>39.5</td>\n",
       "      <td>7</td>\n",
       "      <td>0</td>\n",
       "      <td>No Failure</td>\n",
       "    </tr>\n",
       "    <tr>\n",
       "      <th>4</th>\n",
       "      <td>5</td>\n",
       "      <td>L47184</td>\n",
       "      <td>L</td>\n",
       "      <td>298.2</td>\n",
       "      <td>308.7</td>\n",
       "      <td>1408</td>\n",
       "      <td>40.0</td>\n",
       "      <td>9</td>\n",
       "      <td>0</td>\n",
       "      <td>No Failure</td>\n",
       "    </tr>\n",
       "  </tbody>\n",
       "</table>\n",
       "</div>"
      ],
      "text/plain": [
       "   UDI Product ID Type  Air temperature [K]  Process temperature [K]   \n",
       "0    1     M14860    M                298.1                    308.6  \\\n",
       "1    2     L47181    L                298.2                    308.7   \n",
       "2    3     L47182    L                298.1                    308.5   \n",
       "3    4     L47183    L                298.2                    308.6   \n",
       "4    5     L47184    L                298.2                    308.7   \n",
       "\n",
       "   Rotational speed [rpm]  Torque [Nm]  Tool wear [min]  Target Failure Type  \n",
       "0                    1551         42.8                0       0   No Failure  \n",
       "1                    1408         46.3                3       0   No Failure  \n",
       "2                    1498         49.4                5       0   No Failure  \n",
       "3                    1433         39.5                7       0   No Failure  \n",
       "4                    1408         40.0                9       0   No Failure  "
      ]
     },
     "execution_count": 387,
     "metadata": {},
     "output_type": "execute_result"
    }
   ],
   "source": [
    "# Načtení dat\n",
    "data2 = pandas.read_csv(\"data/predictive_maintenance.csv\")\n",
    "\n",
    "print(data2.shape)\n",
    "data2.head()"
   ]
  },
  {
   "attachments": {},
   "cell_type": "markdown",
   "metadata": {},
   "source": [
    "- Vyřaď z datasetu sloupce (jsou dva), které nemají pro analýzu význam."
   ]
  },
  {
   "cell_type": "code",
   "execution_count": 388,
   "metadata": {},
   "outputs": [],
   "source": [
    "data2 = data2.drop(columns=[\"UDI\", \"Product ID\"])"
   ]
  },
  {
   "attachments": {},
   "cell_type": "markdown",
   "metadata": {},
   "source": [
    "- Podívej se, kolik typů poruch bylo objeveno. Vyřaď nejméně častou poruchu."
   ]
  },
  {
   "cell_type": "code",
   "execution_count": 389,
   "metadata": {},
   "outputs": [
    {
     "data": {
      "text/plain": [
       "Failure Type\n",
       "Heat Dissipation Failure     112\n",
       "No Failure                  9652\n",
       "Overstrain Failure            78\n",
       "Power Failure                 95\n",
       "Random Failures               18\n",
       "Tool Wear Failure             45\n",
       "dtype: int64"
      ]
     },
     "metadata": {},
     "output_type": "display_data"
    },
    {
     "name": "stdout",
     "output_type": "stream",
     "text": [
      "Failure Type\n",
      "Random Failures    18\n",
      "dtype: int64\n",
      "Random Failures\n",
      "['No Failure' 'Power Failure' 'Tool Wear Failure' 'Overstrain Failure'\n",
      " 'Heat Dissipation Failure']\n",
      "(9982, 8)\n"
     ]
    }
   ],
   "source": [
    "# Seskupení podle typu poruchy a jejich četnost\n",
    "failures = data2.groupby(\"Failure Type\").size()\n",
    "display(failures)\n",
    "\n",
    "# Nalezení nejméně časté poruchy a získání jejího názvu ve formě stringu\n",
    "least_frequent = failures[failures == failures.min()]\n",
    "least_frequent_name = least_frequent.index[0]\n",
    "print(least_frequent)\n",
    "print(least_frequent_name)\n",
    "\n",
    "# Vyřazení nejméně časté poruchy z datasetu a ověření, že zmizela\n",
    "data2 = data2[data2[\"Failure Type\"] != least_frequent_name]\n",
    "\n",
    "print(data2[\"Failure Type\"].unique())\n",
    "print(data2.shape)"
   ]
  },
  {
   "attachments": {},
   "cell_type": "markdown",
   "metadata": {},
   "source": [
    "- Rozděl data na vstupní proměnné a výstupní proměnnou."
   ]
  },
  {
   "cell_type": "code",
   "execution_count": 390,
   "metadata": {},
   "outputs": [
    {
     "data": {
      "text/html": [
       "<div>\n",
       "<style scoped>\n",
       "    .dataframe tbody tr th:only-of-type {\n",
       "        vertical-align: middle;\n",
       "    }\n",
       "\n",
       "    .dataframe tbody tr th {\n",
       "        vertical-align: top;\n",
       "    }\n",
       "\n",
       "    .dataframe thead th {\n",
       "        text-align: right;\n",
       "    }\n",
       "</style>\n",
       "<table border=\"1\" class=\"dataframe\">\n",
       "  <thead>\n",
       "    <tr style=\"text-align: right;\">\n",
       "      <th></th>\n",
       "      <th>Air temperature [K]</th>\n",
       "      <th>Process temperature [K]</th>\n",
       "      <th>Rotational speed [rpm]</th>\n",
       "      <th>Torque [Nm]</th>\n",
       "      <th>Tool wear [min]</th>\n",
       "      <th>Target</th>\n",
       "      <th>Type_H</th>\n",
       "      <th>Type_L</th>\n",
       "      <th>Type_M</th>\n",
       "    </tr>\n",
       "  </thead>\n",
       "  <tbody>\n",
       "    <tr>\n",
       "      <th>0</th>\n",
       "      <td>298.1</td>\n",
       "      <td>308.6</td>\n",
       "      <td>1551</td>\n",
       "      <td>42.8</td>\n",
       "      <td>0</td>\n",
       "      <td>0</td>\n",
       "      <td>False</td>\n",
       "      <td>False</td>\n",
       "      <td>True</td>\n",
       "    </tr>\n",
       "    <tr>\n",
       "      <th>1</th>\n",
       "      <td>298.2</td>\n",
       "      <td>308.7</td>\n",
       "      <td>1408</td>\n",
       "      <td>46.3</td>\n",
       "      <td>3</td>\n",
       "      <td>0</td>\n",
       "      <td>False</td>\n",
       "      <td>True</td>\n",
       "      <td>False</td>\n",
       "    </tr>\n",
       "    <tr>\n",
       "      <th>2</th>\n",
       "      <td>298.1</td>\n",
       "      <td>308.5</td>\n",
       "      <td>1498</td>\n",
       "      <td>49.4</td>\n",
       "      <td>5</td>\n",
       "      <td>0</td>\n",
       "      <td>False</td>\n",
       "      <td>True</td>\n",
       "      <td>False</td>\n",
       "    </tr>\n",
       "    <tr>\n",
       "      <th>3</th>\n",
       "      <td>298.2</td>\n",
       "      <td>308.6</td>\n",
       "      <td>1433</td>\n",
       "      <td>39.5</td>\n",
       "      <td>7</td>\n",
       "      <td>0</td>\n",
       "      <td>False</td>\n",
       "      <td>True</td>\n",
       "      <td>False</td>\n",
       "    </tr>\n",
       "    <tr>\n",
       "      <th>4</th>\n",
       "      <td>298.2</td>\n",
       "      <td>308.7</td>\n",
       "      <td>1408</td>\n",
       "      <td>40.0</td>\n",
       "      <td>9</td>\n",
       "      <td>0</td>\n",
       "      <td>False</td>\n",
       "      <td>True</td>\n",
       "      <td>False</td>\n",
       "    </tr>\n",
       "  </tbody>\n",
       "</table>\n",
       "</div>"
      ],
      "text/plain": [
       "   Air temperature [K]  Process temperature [K]  Rotational speed [rpm]   \n",
       "0                298.1                    308.6                    1551  \\\n",
       "1                298.2                    308.7                    1408   \n",
       "2                298.1                    308.5                    1498   \n",
       "3                298.2                    308.6                    1433   \n",
       "4                298.2                    308.7                    1408   \n",
       "\n",
       "   Torque [Nm]  Tool wear [min]  Target  Type_H  Type_L  Type_M  \n",
       "0         42.8                0       0   False   False    True  \n",
       "1         46.3                3       0   False    True   False  \n",
       "2         49.4                5       0   False    True   False  \n",
       "3         39.5                7       0   False    True   False  \n",
       "4         40.0                9       0   False    True   False  "
      ]
     },
     "execution_count": 390,
     "metadata": {},
     "output_type": "execute_result"
    }
   ],
   "source": [
    "# Rozdělení dat na vstupní proměnné a cílovou klasifikaci\n",
    "X2 = data2.drop(columns=[\"Failure Type\"])\n",
    "y2 = data2[\"Failure Type\"]\n",
    "\n",
    "# Převod kategorických dat na dummies\n",
    "# (vracíme se k pandas, jelikož OneHotEncoder by převedl všechny sloupce včetně číselných, ccož nechceme)\n",
    "X2 = pandas.get_dummies(X2, columns=[\"Type\"])\n",
    "X2.head()"
   ]
  },
  {
   "attachments": {},
   "cell_type": "markdown",
   "metadata": {},
   "source": [
    "- Vyzkoušej algoritmy Support Vector Machine a K Nearest Neighbors ke klasifikaci poruchy stroje. Porovnej, který algoritmus dosáhl lepších výsledků.\n",
    "\n",
    "**Pozor, máme hodně dat, běží to dlouho:), na mém počítači asi 20 a 50 sekund.**"
   ]
  },
  {
   "cell_type": "code",
   "execution_count": 391,
   "metadata": {},
   "outputs": [
    {
     "name": "stdout",
     "output_type": "stream",
     "text": [
      "{'n_neighbors': 15}\n",
      "Best accuracy: 0.97\n"
     ]
    }
   ],
   "source": [
    "# Stejný postup jako v prvním úkolu\n",
    "\n",
    "model_3 = KNeighborsClassifier()\n",
    "params_3 = {\"n_neighbors\": [3, 5, 11, 15]}\n",
    "# ...hodnoty n_neighbors zvoleny náhodně jen jako ukázka alternativy k range()\n",
    "\n",
    "clf_3 = GridSearchCV(model_3, params_3, scoring=\"accuracy\")\n",
    "clf_3.fit(X2, y2)\n",
    "\n",
    "print(clf_3.best_params_)\n",
    "print(f\"Best accuracy: {round(clf_3.best_score_, 2)}\")"
   ]
  },
  {
   "cell_type": "code",
   "execution_count": 392,
   "metadata": {},
   "outputs": [
    {
     "name": "stdout",
     "output_type": "stream",
     "text": [
      "{'decision_function_shape': 'ovo', 'kernel': 'linear'}\n",
      "Best accuracy: 1.0\n"
     ]
    }
   ],
   "source": [
    "# Stejný postup jako v prvním úkolu\n",
    "\n",
    "model_4 = SVC()\n",
    "params_4 = {\"kernel\": [\"linear\", \"rbf\"], \"decision_function_shape\": [\"ovo\", \"ovr\"]}\n",
    "\n",
    "clf_4 = GridSearchCV(model_4, params_4, scoring=\"accuracy\")\n",
    "clf_4.fit(X2, y2)\n",
    "\n",
    "print(clf_4.best_params_)\n",
    "print(f\"Best accuracy: {round(clf_4.best_score_, 2)}\")"
   ]
  }
 ],
 "metadata": {
  "kernelspec": {
   "display_name": "base",
   "language": "python",
   "name": "python3"
  },
  "language_info": {
   "codemirror_mode": {
    "name": "ipython",
    "version": 3
   },
   "file_extension": ".py",
   "mimetype": "text/x-python",
   "name": "python",
   "nbconvert_exporter": "python",
   "pygments_lexer": "ipython3",
   "version": "3.9.16"
  },
  "orig_nbformat": 4
 },
 "nbformat": 4,
 "nbformat_minor": 2
}
