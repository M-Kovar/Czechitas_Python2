{
 "cells": [
  {
   "attachments": {},
   "cell_type": "markdown",
   "metadata": {},
   "source": [
    "# 1. lekce: Cvičení"
   ]
  },
  {
   "attachments": {},
   "cell_type": "markdown",
   "metadata": {},
   "source": [
    "Uvažuj, že provádíš analýzu stavu zásob v kamenném obchodě. Obchod je otevřený každý všední den, zásoby jsou přivezeny vždy první pracovní den v měsíci. Pro zjednodušení máme záznamy pouze o třech produktech. Data najdeš v souboru [inventory.csv](data/inventory.csv)."
   ]
  },
  {
   "cell_type": "code",
   "execution_count": null,
   "metadata": {},
   "outputs": [],
   "source": [
    "import pandas\n",
    "\n",
    "df = pandas.read_csv(\"data/inventory.csv\")\n",
    "df.head()"
   ]
  },
  {
   "attachments": {},
   "cell_type": "markdown",
   "metadata": {},
   "source": [
    "- Pomocí kumulativního součtu vytvoř v tabulce sloupec, který udává množství každého z produktů na skladě."
   ]
  },
  {
   "cell_type": "code",
   "execution_count": null,
   "metadata": {},
   "outputs": [],
   "source": [
    "# Pro přehlednost nejprve seřadíme podle produktu a data\n",
    "df = df.sort_values([\"product_code\", \"date\"])\n",
    "\n",
    "# (cumsum() funguje i na neseřazená data)\n",
    "df[\"quantity_cumsum\"] = df.groupby(\"product_code\")[\"quantity\"].cumsum()\n",
    "df.head()"
   ]
  },
  {
   "attachments": {},
   "cell_type": "markdown",
   "metadata": {},
   "source": [
    "- V daném období zažíval obchod problémy se zásobováním a některé zboží tak bylo vyprodané. Zjisti pro každý z produktů, kolik dní v roce byl vyprodaný, tj. kolik dní v roce byl stav zásob 0."
   ]
  },
  {
   "cell_type": "code",
   "execution_count": null,
   "metadata": {},
   "outputs": [],
   "source": [
    "# Vyberene řádky, kde je vyprodáno, a vložíme je do nové tabulky\n",
    "df_sold_out = df[df[\"quantity_cumsum\"] == 0]\n",
    "\n",
    "print(\"Number of days when the products were sold-out:\")\n",
    "df_sold_out.groupby(\"product_code\").size()"
   ]
  },
  {
   "attachments": {},
   "cell_type": "markdown",
   "metadata": {},
   "source": [
    "- Vytvoř novou tabulku, kde ponecháš pro dané zboží pouze dny, kdy zboží nebylo vyprodáno. Z této tabulky pak spočítej průměrný počet prodaných kusů zboží za den. (Jde nám o to, jaký byl zájem zákazníků o zboží. Dny, kdy bylo zboží vyprodáno, tedy z analýzy vynecháme.)"
   ]
  },
  {
   "cell_type": "code",
   "execution_count": null,
   "metadata": {},
   "outputs": [],
   "source": [
    "# Nyní vybírám řádky, kde je quantity méně nebo rovno 0 - odebírám doplňování zboží\n",
    "df_avg = df[df[\"quantity\"] <= 0]\n",
    "\n",
    "# Nyní odebírám řádky, kdy není zboží vyprodáno\n",
    "df_avg = df_avg[df_avg[\"quantity_cumsum\"] != 0]"
   ]
  },
  {
   "attachments": {},
   "cell_type": "markdown",
   "metadata": {},
   "source": [
    "- Pomocí agregace spočítej, kolik bylo v průměru prodáno každého zboží."
   ]
  },
  {
   "cell_type": "code",
   "execution_count": null,
   "metadata": {},
   "outputs": [],
   "source": [
    "print(\"Average number of product pieces sold:\")\n",
    "\n",
    "# S otočením znaménka, aby počet nevycházel záporně\n",
    "df_avg = df_avg.groupby(\"product_code\")[\"quantity\"].mean() *-1\n",
    "df_avg"
   ]
  }
 ],
 "metadata": {
  "kernelspec": {
   "display_name": "Python 3.9.13 ('base')",
   "language": "python",
   "name": "python3"
  },
  "language_info": {
   "codemirror_mode": {
    "name": "ipython",
    "version": 3
   },
   "file_extension": ".py",
   "mimetype": "text/x-python",
   "name": "python",
   "nbconvert_exporter": "python",
   "pygments_lexer": "ipython3",
   "version": "3.9.16"
  },
  "orig_nbformat": 4,
  "vscode": {
   "interpreter": {
    "hash": "ca0a74a26f64ce6078449a8a918a2043db137feeddbb8faaf0bddbab6a446058"
   }
  }
 },
 "nbformat": 4,
 "nbformat_minor": 2
}
